{
 "cells": [
  {
   "cell_type": "code",
   "execution_count": 1,
   "metadata": {},
   "outputs": [],
   "source": [
    "import nsepy\n",
    "import datetime\n",
    "import pandas as pd"
   ]
  },
  {
   "cell_type": "code",
   "execution_count": 2,
   "metadata": {},
   "outputs": [],
   "source": [
    "import numpy as np\n",
    "import matplotlib.pyplot as plt\n",
    "from sklearn.decomposition import PCA\n",
    "from sklearn.linear_model import LinearRegression\n",
    "from sklearn import metrics "
   ]
  },
  {
   "cell_type": "code",
   "execution_count": 3,
   "metadata": {},
   "outputs": [],
   "source": [
    "def gethdata(stockname):\n",
    "    today=datetime.date.today()\n",
    "    duration=300\n",
    "    duration2=23\n",
    "    start=today+datetime.timedelta(-duration)\n",
    "    end1=today+datetime.timedelta(-duration2)\n",
    "    stockdata=nsepy.get_history(symbol=stockname,start=start,end=end1)\n",
    "    return stockdata\n",
    "rf=gethdata(\"ITC\")"
   ]
  },
  {
   "cell_type": "code",
   "execution_count": 4,
   "metadata": {},
   "outputs": [
    {
     "data": {
      "text/html": [
       "<div>\n",
       "<style scoped>\n",
       "    .dataframe tbody tr th:only-of-type {\n",
       "        vertical-align: middle;\n",
       "    }\n",
       "\n",
       "    .dataframe tbody tr th {\n",
       "        vertical-align: top;\n",
       "    }\n",
       "\n",
       "    .dataframe thead th {\n",
       "        text-align: right;\n",
       "    }\n",
       "</style>\n",
       "<table border=\"1\" class=\"dataframe\">\n",
       "  <thead>\n",
       "    <tr style=\"text-align: right;\">\n",
       "      <th></th>\n",
       "      <th>Symbol</th>\n",
       "      <th>Series</th>\n",
       "      <th>Prev Close</th>\n",
       "      <th>Open</th>\n",
       "      <th>High</th>\n",
       "      <th>Low</th>\n",
       "      <th>Last</th>\n",
       "      <th>Close</th>\n",
       "      <th>VWAP</th>\n",
       "      <th>Volume</th>\n",
       "      <th>Turnover</th>\n",
       "      <th>Trades</th>\n",
       "      <th>Deliverable Volume</th>\n",
       "      <th>%Deliverble</th>\n",
       "    </tr>\n",
       "    <tr>\n",
       "      <th>Date</th>\n",
       "      <th></th>\n",
       "      <th></th>\n",
       "      <th></th>\n",
       "      <th></th>\n",
       "      <th></th>\n",
       "      <th></th>\n",
       "      <th></th>\n",
       "      <th></th>\n",
       "      <th></th>\n",
       "      <th></th>\n",
       "      <th></th>\n",
       "      <th></th>\n",
       "      <th></th>\n",
       "      <th></th>\n",
       "    </tr>\n",
       "  </thead>\n",
       "  <tbody>\n",
       "    <tr>\n",
       "      <th>2021-06-28</th>\n",
       "      <td>ITC</td>\n",
       "      <td>EQ</td>\n",
       "      <td>205.05</td>\n",
       "      <td>205.9</td>\n",
       "      <td>205.9</td>\n",
       "      <td>203.35</td>\n",
       "      <td>203.70</td>\n",
       "      <td>203.6</td>\n",
       "      <td>203.99</td>\n",
       "      <td>14627153</td>\n",
       "      <td>2.983820e+14</td>\n",
       "      <td>117711</td>\n",
       "      <td>9628768</td>\n",
       "      <td>0.6583</td>\n",
       "    </tr>\n",
       "    <tr>\n",
       "      <th>2021-06-29</th>\n",
       "      <td>ITC</td>\n",
       "      <td>EQ</td>\n",
       "      <td>203.60</td>\n",
       "      <td>203.6</td>\n",
       "      <td>205.3</td>\n",
       "      <td>203.15</td>\n",
       "      <td>203.25</td>\n",
       "      <td>203.3</td>\n",
       "      <td>203.84</td>\n",
       "      <td>13326068</td>\n",
       "      <td>2.716346e+14</td>\n",
       "      <td>107509</td>\n",
       "      <td>7115203</td>\n",
       "      <td>0.5339</td>\n",
       "    </tr>\n",
       "    <tr>\n",
       "      <th>2021-06-30</th>\n",
       "      <td>ITC</td>\n",
       "      <td>EQ</td>\n",
       "      <td>203.30</td>\n",
       "      <td>204.3</td>\n",
       "      <td>204.4</td>\n",
       "      <td>202.55</td>\n",
       "      <td>202.70</td>\n",
       "      <td>202.7</td>\n",
       "      <td>203.25</td>\n",
       "      <td>15942408</td>\n",
       "      <td>3.240234e+14</td>\n",
       "      <td>122092</td>\n",
       "      <td>9379338</td>\n",
       "      <td>0.5883</td>\n",
       "    </tr>\n",
       "    <tr>\n",
       "      <th>2021-07-01</th>\n",
       "      <td>ITC</td>\n",
       "      <td>EQ</td>\n",
       "      <td>202.70</td>\n",
       "      <td>202.9</td>\n",
       "      <td>203.8</td>\n",
       "      <td>202.15</td>\n",
       "      <td>203.10</td>\n",
       "      <td>203.0</td>\n",
       "      <td>203.03</td>\n",
       "      <td>10191296</td>\n",
       "      <td>2.069163e+14</td>\n",
       "      <td>68663</td>\n",
       "      <td>4631882</td>\n",
       "      <td>0.4545</td>\n",
       "    </tr>\n",
       "    <tr>\n",
       "      <th>2021-07-02</th>\n",
       "      <td>ITC</td>\n",
       "      <td>EQ</td>\n",
       "      <td>203.00</td>\n",
       "      <td>203.3</td>\n",
       "      <td>203.7</td>\n",
       "      <td>202.25</td>\n",
       "      <td>202.45</td>\n",
       "      <td>202.4</td>\n",
       "      <td>202.75</td>\n",
       "      <td>12698779</td>\n",
       "      <td>2.574696e+14</td>\n",
       "      <td>132029</td>\n",
       "      <td>7041308</td>\n",
       "      <td>0.5545</td>\n",
       "    </tr>\n",
       "  </tbody>\n",
       "</table>\n",
       "</div>"
      ],
      "text/plain": [
       "           Symbol Series  Prev Close   Open   High     Low    Last  Close  \\\n",
       "Date                                                                        \n",
       "2021-06-28    ITC     EQ      205.05  205.9  205.9  203.35  203.70  203.6   \n",
       "2021-06-29    ITC     EQ      203.60  203.6  205.3  203.15  203.25  203.3   \n",
       "2021-06-30    ITC     EQ      203.30  204.3  204.4  202.55  202.70  202.7   \n",
       "2021-07-01    ITC     EQ      202.70  202.9  203.8  202.15  203.10  203.0   \n",
       "2021-07-02    ITC     EQ      203.00  203.3  203.7  202.25  202.45  202.4   \n",
       "\n",
       "              VWAP    Volume      Turnover  Trades  Deliverable Volume  \\\n",
       "Date                                                                     \n",
       "2021-06-28  203.99  14627153  2.983820e+14  117711             9628768   \n",
       "2021-06-29  203.84  13326068  2.716346e+14  107509             7115203   \n",
       "2021-06-30  203.25  15942408  3.240234e+14  122092             9379338   \n",
       "2021-07-01  203.03  10191296  2.069163e+14   68663             4631882   \n",
       "2021-07-02  202.75  12698779  2.574696e+14  132029             7041308   \n",
       "\n",
       "            %Deliverble  \n",
       "Date                     \n",
       "2021-06-28       0.6583  \n",
       "2021-06-29       0.5339  \n",
       "2021-06-30       0.5883  \n",
       "2021-07-01       0.4545  \n",
       "2021-07-02       0.5545  "
      ]
     },
     "execution_count": 4,
     "metadata": {},
     "output_type": "execute_result"
    }
   ],
   "source": [
    "rf.tail()"
   ]
  },
  {
   "cell_type": "code",
   "execution_count": 5,
   "metadata": {},
   "outputs": [
    {
     "data": {
      "text/plain": [
       "array([174.6 , 172.8 , 171.6 , 170.9 , 170.4 , 168.9 , 175.2 , 174.85,\n",
       "       171.  , 167.8 , 166.8 , 168.9 , 168.3 , 168.9 , 169.1 , 171.  ,\n",
       "       171.6 , 169.3 , 168.5 , 165.95, 166.8 , 167.2 , 170.75, 171.8 ,\n",
       "       175.  , 177.2 , 177.3 , 179.55, 185.9 , 188.75, 188.8 , 190.  ,\n",
       "       189.4 , 188.45, 191.8 , 192.  , 192.5 , 196.45, 197.95, 195.85,\n",
       "       195.75, 196.35, 198.75, 197.2 , 199.35, 203.75, 204.7 , 207.8 ,\n",
       "       213.65, 217.95, 218.6 , 216.4 , 215.55, 215.1 , 215.95, 214.7 ,\n",
       "       206.25, 208.25, 210.65, 210.2 , 213.5 , 213.5 , 211.3 , 214.2 ,\n",
       "       216.  , 213.25, 211.5 , 207.6 , 206.  , 206.1 , 206.9 , 213.  ,\n",
       "       216.5 , 218.5 , 222.  , 221.7 , 219.  , 219.5 , 214.75, 212.5 ,\n",
       "       212.65, 211.  , 208.8 , 217.95, 223.5 , 222.  , 231.4 , 238.85,\n",
       "       238.05, 239.2 , 231.1 , 229.3 , 225.75, 221.  , 221.8 , 218.4 ,\n",
       "       220.6 , 218.9 , 212.  , 210.55, 209.8 , 211.2 , 208.  , 207.75,\n",
       "       210.8 , 212.  , 211.3 , 210.  , 210.8 , 209.75, 209.2 , 208.  ,\n",
       "       206.  , 208.9 , 213.9 , 219.1 , 226.15, 226.4 , 228.1 , 222.8 ,\n",
       "       215.95, 214.45, 215.  , 219.3 , 220.6 , 220.  , 214.95, 215.2 ,\n",
       "       216.1 , 215.95, 211.  , 209.7 , 210.45, 209.25, 206.1 , 207.  ,\n",
       "       206.3 , 207.  , 206.75, 206.95, 206.5 , 207.55, 205.7 , 201.85,\n",
       "       202.35, 202.  , 205.95, 206.45, 207.45, 206.5 , 205.25, 213.2 ,\n",
       "       217.  , 214.6 , 211.4 , 209.3 , 209.85, 212.05, 213.4 , 212.45,\n",
       "       214.15, 213.5 , 217.9 , 219.4 , 212.45, 210.75, 209.7 , 212.4 ,\n",
       "       214.25, 214.75, 211.4 , 210.45, 208.45, 208.4 , 209.35, 208.  ,\n",
       "       206.45, 206.  , 206.25, 205.85, 204.65, 205.6 , 205.9 , 205.3 ,\n",
       "       204.4 , 203.8 , 203.7 ,   0.  ])"
      ]
     },
     "execution_count": 5,
     "metadata": {},
     "output_type": "execute_result"
    }
   ],
   "source": [
    "ndh=rf[['High']]\n",
    "v=ndh.values\n",
    "v=np.append(v, [0])\n",
    "v=np.delete(v,0)\n",
    "v"
   ]
  },
  {
   "cell_type": "code",
   "execution_count": 6,
   "metadata": {},
   "outputs": [],
   "source": [
    "rf['ndhigh']=v"
   ]
  },
  {
   "cell_type": "code",
   "execution_count": 7,
   "metadata": {},
   "outputs": [],
   "source": [
    "rf.reset_index(inplace = True)"
   ]
  },
  {
   "cell_type": "code",
   "execution_count": 8,
   "metadata": {},
   "outputs": [
    {
     "data": {
      "text/plain": [
       "Date                  0\n",
       "Symbol                0\n",
       "Series                0\n",
       "Prev Close            0\n",
       "Open                  0\n",
       "High                  0\n",
       "Low                   0\n",
       "Last                  0\n",
       "Close                 0\n",
       "VWAP                  0\n",
       "Volume                0\n",
       "Turnover              0\n",
       "Trades                0\n",
       "Deliverable Volume    0\n",
       "%Deliverble           0\n",
       "ndhigh                0\n",
       "dtype: int64"
      ]
     },
     "execution_count": 8,
     "metadata": {},
     "output_type": "execute_result"
    }
   ],
   "source": [
    "rf.isnull().sum()"
   ]
  },
  {
   "cell_type": "code",
   "execution_count": 9,
   "metadata": {},
   "outputs": [],
   "source": [
    "X= rf.drop(['Date','ndhigh','Symbol','Series'],axis=1)\n",
    "Y=rf['ndhigh']"
   ]
  },
  {
   "cell_type": "code",
   "execution_count": 10,
   "metadata": {},
   "outputs": [
    {
     "data": {
      "text/html": [
       "<div>\n",
       "<style scoped>\n",
       "    .dataframe tbody tr th:only-of-type {\n",
       "        vertical-align: middle;\n",
       "    }\n",
       "\n",
       "    .dataframe tbody tr th {\n",
       "        vertical-align: top;\n",
       "    }\n",
       "\n",
       "    .dataframe thead th {\n",
       "        text-align: right;\n",
       "    }\n",
       "</style>\n",
       "<table border=\"1\" class=\"dataframe\">\n",
       "  <thead>\n",
       "    <tr style=\"text-align: right;\">\n",
       "      <th></th>\n",
       "      <th>Prev Close</th>\n",
       "      <th>Open</th>\n",
       "      <th>High</th>\n",
       "      <th>Low</th>\n",
       "      <th>Last</th>\n",
       "      <th>Close</th>\n",
       "      <th>VWAP</th>\n",
       "      <th>Volume</th>\n",
       "      <th>Turnover</th>\n",
       "      <th>Trades</th>\n",
       "      <th>Deliverable Volume</th>\n",
       "      <th>%Deliverble</th>\n",
       "    </tr>\n",
       "  </thead>\n",
       "  <tbody>\n",
       "    <tr>\n",
       "      <th>187</th>\n",
       "      <td>203.0</td>\n",
       "      <td>203.3</td>\n",
       "      <td>203.7</td>\n",
       "      <td>202.25</td>\n",
       "      <td>202.45</td>\n",
       "      <td>202.4</td>\n",
       "      <td>202.75</td>\n",
       "      <td>12698779</td>\n",
       "      <td>2.574696e+14</td>\n",
       "      <td>132029</td>\n",
       "      <td>7041308</td>\n",
       "      <td>0.5545</td>\n",
       "    </tr>\n",
       "  </tbody>\n",
       "</table>\n",
       "</div>"
      ],
      "text/plain": [
       "     Prev Close   Open   High     Low    Last  Close    VWAP    Volume  \\\n",
       "187       203.0  203.3  203.7  202.25  202.45  202.4  202.75  12698779   \n",
       "\n",
       "         Turnover  Trades  Deliverable Volume  %Deliverble  \n",
       "187  2.574696e+14  132029             7041308       0.5545  "
      ]
     },
     "execution_count": 10,
     "metadata": {},
     "output_type": "execute_result"
    }
   ],
   "source": [
    "Xtestn=X.iloc[-1:]\n",
    "Xtestn"
   ]
  },
  {
   "cell_type": "code",
   "execution_count": 11,
   "metadata": {},
   "outputs": [],
   "source": [
    "X.drop(index=X.index[-1], \n",
    "        axis=0, \n",
    "        inplace=True)\n",
    "Y.drop(index=Y.index[-1], \n",
    "        axis=0, \n",
    "        inplace=True)"
   ]
  },
  {
   "cell_type": "code",
   "execution_count": 12,
   "metadata": {},
   "outputs": [],
   "source": [
    "X_train=X\n",
    "Y_train=Y\n",
    "lr = LinearRegression()\n",
    "z=lr.fit(X_train,Y_train)"
   ]
  },
  {
   "cell_type": "code",
   "execution_count": 22,
   "metadata": {},
   "outputs": [],
   "source": [
    "def gethdatatest(stockname):\n",
    "    today=datetime.date.today()\n",
    "    duration=23\n",
    "    \n",
    "    start=today+datetime.timedelta(-duration)\n",
    "    \n",
    "    stockdata=nsepy.get_history(symbol=stockname,start=start,end=today)\n",
    "    return stockdata\n",
    "df1=gethdatatest('ITC')"
   ]
  },
  {
   "cell_type": "code",
   "execution_count": 23,
   "metadata": {},
   "outputs": [],
   "source": [
    "test=df1[['Prev Close','High','Deliverable Volume','VWAP','Low','Trades','Open']]"
   ]
  },
  {
   "cell_type": "code",
   "execution_count": 24,
   "metadata": {},
   "outputs": [
    {
     "data": {
      "text/plain": [
       "array([203.8 , 205.2 , 204.5 , 202.35, 202.55, 202.2 , 205.15, 208.5 ,\n",
       "       209.65, 209.5 , 209.3 , 208.25, 213.6 , 215.35, 213.  ,   0.  ])"
      ]
     },
     "execution_count": 24,
     "metadata": {},
     "output_type": "execute_result"
    }
   ],
   "source": [
    "ndhi=test[['High']]\n",
    "v1=ndhi.values\n",
    "v1=np.append(v1, [0])\n",
    "v1=np.delete(v1,0)\n",
    "v1"
   ]
  },
  {
   "cell_type": "code",
   "execution_count": 25,
   "metadata": {},
   "outputs": [
    {
     "data": {
      "text/plain": [
       "16"
      ]
     },
     "execution_count": 25,
     "metadata": {},
     "output_type": "execute_result"
    }
   ],
   "source": [
    "len(test)"
   ]
  },
  {
   "cell_type": "code",
   "execution_count": 26,
   "metadata": {},
   "outputs": [
    {
     "name": "stderr",
     "output_type": "stream",
     "text": [
      "<ipython-input-26-d7558054e89a>:1: SettingWithCopyWarning: \n",
      "A value is trying to be set on a copy of a slice from a DataFrame.\n",
      "Try using .loc[row_indexer,col_indexer] = value instead\n",
      "\n",
      "See the caveats in the documentation: https://pandas.pydata.org/pandas-docs/stable/user_guide/indexing.html#returning-a-view-versus-a-copy\n",
      "  test['ndhigh']=v1\n"
     ]
    }
   ],
   "source": [
    "test['ndhigh']=v1"
   ]
  },
  {
   "cell_type": "code",
   "execution_count": 28,
   "metadata": {},
   "outputs": [],
   "source": [
    "df1.reset_index(inplace = True)"
   ]
  },
  {
   "cell_type": "code",
   "execution_count": 30,
   "metadata": {},
   "outputs": [],
   "source": [
    "\n",
    "testx= df1.drop(['Date','Symbol','Series'],axis=1)\n",
    "q= z.predict(testx)\n",
    "\n"
   ]
  },
  {
   "cell_type": "code",
   "execution_count": 31,
   "metadata": {},
   "outputs": [
    {
     "name": "stderr",
     "output_type": "stream",
     "text": [
      "<ipython-input-31-df0d88b042a6>:1: SettingWithCopyWarning: \n",
      "A value is trying to be set on a copy of a slice from a DataFrame.\n",
      "Try using .loc[row_indexer,col_indexer] = value instead\n",
      "\n",
      "See the caveats in the documentation: https://pandas.pydata.org/pandas-docs/stable/user_guide/indexing.html#returning-a-view-versus-a-copy\n",
      "  test['high prediction']=q\n"
     ]
    }
   ],
   "source": [
    "test['high prediction']=q"
   ]
  },
  {
   "cell_type": "code",
   "execution_count": 32,
   "metadata": {},
   "outputs": [
    {
     "data": {
      "text/html": [
       "<div>\n",
       "<style scoped>\n",
       "    .dataframe tbody tr th:only-of-type {\n",
       "        vertical-align: middle;\n",
       "    }\n",
       "\n",
       "    .dataframe tbody tr th {\n",
       "        vertical-align: top;\n",
       "    }\n",
       "\n",
       "    .dataframe thead th {\n",
       "        text-align: right;\n",
       "    }\n",
       "</style>\n",
       "<table border=\"1\" class=\"dataframe\">\n",
       "  <thead>\n",
       "    <tr style=\"text-align: right;\">\n",
       "      <th></th>\n",
       "      <th>Prev Close</th>\n",
       "      <th>High</th>\n",
       "      <th>Deliverable Volume</th>\n",
       "      <th>VWAP</th>\n",
       "      <th>Low</th>\n",
       "      <th>Trades</th>\n",
       "      <th>Open</th>\n",
       "      <th>ndhigh</th>\n",
       "      <th>high prediction</th>\n",
       "    </tr>\n",
       "    <tr>\n",
       "      <th>Date</th>\n",
       "      <th></th>\n",
       "      <th></th>\n",
       "      <th></th>\n",
       "      <th></th>\n",
       "      <th></th>\n",
       "      <th></th>\n",
       "      <th></th>\n",
       "      <th></th>\n",
       "      <th></th>\n",
       "    </tr>\n",
       "  </thead>\n",
       "  <tbody>\n",
       "    <tr>\n",
       "      <th>2021-07-05</th>\n",
       "      <td>202.40</td>\n",
       "      <td>204.10</td>\n",
       "      <td>5324082</td>\n",
       "      <td>203.38</td>\n",
       "      <td>202.70</td>\n",
       "      <td>75097</td>\n",
       "      <td>203.00</td>\n",
       "      <td>203.80</td>\n",
       "      <td>205.047739</td>\n",
       "    </tr>\n",
       "    <tr>\n",
       "      <th>2021-07-06</th>\n",
       "      <td>203.65</td>\n",
       "      <td>203.80</td>\n",
       "      <td>6585054</td>\n",
       "      <td>203.10</td>\n",
       "      <td>202.25</td>\n",
       "      <td>95117</td>\n",
       "      <td>203.25</td>\n",
       "      <td>205.20</td>\n",
       "      <td>203.312993</td>\n",
       "    </tr>\n",
       "    <tr>\n",
       "      <th>2021-07-07</th>\n",
       "      <td>202.50</td>\n",
       "      <td>205.20</td>\n",
       "      <td>9646809</td>\n",
       "      <td>203.87</td>\n",
       "      <td>202.30</td>\n",
       "      <td>91964</td>\n",
       "      <td>202.50</td>\n",
       "      <td>204.50</td>\n",
       "      <td>205.368037</td>\n",
       "    </tr>\n",
       "    <tr>\n",
       "      <th>2021-07-08</th>\n",
       "      <td>203.75</td>\n",
       "      <td>204.50</td>\n",
       "      <td>13451340</td>\n",
       "      <td>202.54</td>\n",
       "      <td>201.80</td>\n",
       "      <td>141373</td>\n",
       "      <td>203.50</td>\n",
       "      <td>202.35</td>\n",
       "      <td>203.901171</td>\n",
       "    </tr>\n",
       "    <tr>\n",
       "      <th>2021-07-09</th>\n",
       "      <td>202.00</td>\n",
       "      <td>202.35</td>\n",
       "      <td>6495070</td>\n",
       "      <td>201.63</td>\n",
       "      <td>200.90</td>\n",
       "      <td>95596</td>\n",
       "      <td>202.00</td>\n",
       "      <td>202.55</td>\n",
       "      <td>202.427437</td>\n",
       "    </tr>\n",
       "    <tr>\n",
       "      <th>2021-07-12</th>\n",
       "      <td>201.35</td>\n",
       "      <td>202.55</td>\n",
       "      <td>7825684</td>\n",
       "      <td>201.68</td>\n",
       "      <td>200.95</td>\n",
       "      <td>95000</td>\n",
       "      <td>202.00</td>\n",
       "      <td>202.20</td>\n",
       "      <td>202.428397</td>\n",
       "    </tr>\n",
       "    <tr>\n",
       "      <th>2021-07-13</th>\n",
       "      <td>201.10</td>\n",
       "      <td>202.20</td>\n",
       "      <td>6620288</td>\n",
       "      <td>201.75</td>\n",
       "      <td>201.35</td>\n",
       "      <td>66272</td>\n",
       "      <td>202.00</td>\n",
       "      <td>205.15</td>\n",
       "      <td>203.150113</td>\n",
       "    </tr>\n",
       "    <tr>\n",
       "      <th>2021-07-14</th>\n",
       "      <td>201.85</td>\n",
       "      <td>205.15</td>\n",
       "      <td>8811621</td>\n",
       "      <td>203.56</td>\n",
       "      <td>201.70</td>\n",
       "      <td>106786</td>\n",
       "      <td>201.85</td>\n",
       "      <td>208.50</td>\n",
       "      <td>206.005917</td>\n",
       "    </tr>\n",
       "    <tr>\n",
       "      <th>2021-07-15</th>\n",
       "      <td>204.10</td>\n",
       "      <td>208.50</td>\n",
       "      <td>13002377</td>\n",
       "      <td>205.96</td>\n",
       "      <td>202.90</td>\n",
       "      <td>148819</td>\n",
       "      <td>204.40</td>\n",
       "      <td>209.65</td>\n",
       "      <td>208.903602</td>\n",
       "    </tr>\n",
       "    <tr>\n",
       "      <th>2021-07-16</th>\n",
       "      <td>206.25</td>\n",
       "      <td>209.65</td>\n",
       "      <td>15320511</td>\n",
       "      <td>208.43</td>\n",
       "      <td>207.20</td>\n",
       "      <td>163226</td>\n",
       "      <td>207.70</td>\n",
       "      <td>209.50</td>\n",
       "      <td>210.077503</td>\n",
       "    </tr>\n",
       "    <tr>\n",
       "      <th>2021-07-19</th>\n",
       "      <td>207.90</td>\n",
       "      <td>209.50</td>\n",
       "      <td>7638694</td>\n",
       "      <td>208.11</td>\n",
       "      <td>206.35</td>\n",
       "      <td>110856</td>\n",
       "      <td>206.80</td>\n",
       "      <td>209.30</td>\n",
       "      <td>208.969815</td>\n",
       "    </tr>\n",
       "    <tr>\n",
       "      <th>2021-07-20</th>\n",
       "      <td>207.75</td>\n",
       "      <td>209.30</td>\n",
       "      <td>13024081</td>\n",
       "      <td>207.80</td>\n",
       "      <td>206.40</td>\n",
       "      <td>161404</td>\n",
       "      <td>208.20</td>\n",
       "      <td>208.25</td>\n",
       "      <td>208.382770</td>\n",
       "    </tr>\n",
       "    <tr>\n",
       "      <th>2021-07-22</th>\n",
       "      <td>206.80</td>\n",
       "      <td>208.25</td>\n",
       "      <td>10246304</td>\n",
       "      <td>207.03</td>\n",
       "      <td>205.85</td>\n",
       "      <td>101678</td>\n",
       "      <td>207.00</td>\n",
       "      <td>213.60</td>\n",
       "      <td>208.418111</td>\n",
       "    </tr>\n",
       "    <tr>\n",
       "      <th>2021-07-23</th>\n",
       "      <td>207.00</td>\n",
       "      <td>213.60</td>\n",
       "      <td>22931963</td>\n",
       "      <td>210.93</td>\n",
       "      <td>206.50</td>\n",
       "      <td>253121</td>\n",
       "      <td>207.00</td>\n",
       "      <td>215.35</td>\n",
       "      <td>215.656548</td>\n",
       "    </tr>\n",
       "    <tr>\n",
       "      <th>2021-07-26</th>\n",
       "      <td>212.40</td>\n",
       "      <td>215.35</td>\n",
       "      <td>19514256</td>\n",
       "      <td>213.27</td>\n",
       "      <td>210.80</td>\n",
       "      <td>276749</td>\n",
       "      <td>214.00</td>\n",
       "      <td>213.00</td>\n",
       "      <td>213.646287</td>\n",
       "    </tr>\n",
       "    <tr>\n",
       "      <th>2021-07-27</th>\n",
       "      <td>211.15</td>\n",
       "      <td>213.00</td>\n",
       "      <td>12610541</td>\n",
       "      <td>210.31</td>\n",
       "      <td>207.95</td>\n",
       "      <td>131878</td>\n",
       "      <td>212.00</td>\n",
       "      <td>0.00</td>\n",
       "      <td>210.655679</td>\n",
       "    </tr>\n",
       "  </tbody>\n",
       "</table>\n",
       "</div>"
      ],
      "text/plain": [
       "            Prev Close    High  Deliverable Volume    VWAP     Low  Trades  \\\n",
       "Date                                                                         \n",
       "2021-07-05      202.40  204.10             5324082  203.38  202.70   75097   \n",
       "2021-07-06      203.65  203.80             6585054  203.10  202.25   95117   \n",
       "2021-07-07      202.50  205.20             9646809  203.87  202.30   91964   \n",
       "2021-07-08      203.75  204.50            13451340  202.54  201.80  141373   \n",
       "2021-07-09      202.00  202.35             6495070  201.63  200.90   95596   \n",
       "2021-07-12      201.35  202.55             7825684  201.68  200.95   95000   \n",
       "2021-07-13      201.10  202.20             6620288  201.75  201.35   66272   \n",
       "2021-07-14      201.85  205.15             8811621  203.56  201.70  106786   \n",
       "2021-07-15      204.10  208.50            13002377  205.96  202.90  148819   \n",
       "2021-07-16      206.25  209.65            15320511  208.43  207.20  163226   \n",
       "2021-07-19      207.90  209.50             7638694  208.11  206.35  110856   \n",
       "2021-07-20      207.75  209.30            13024081  207.80  206.40  161404   \n",
       "2021-07-22      206.80  208.25            10246304  207.03  205.85  101678   \n",
       "2021-07-23      207.00  213.60            22931963  210.93  206.50  253121   \n",
       "2021-07-26      212.40  215.35            19514256  213.27  210.80  276749   \n",
       "2021-07-27      211.15  213.00            12610541  210.31  207.95  131878   \n",
       "\n",
       "              Open  ndhigh  high prediction  \n",
       "Date                                         \n",
       "2021-07-05  203.00  203.80       205.047739  \n",
       "2021-07-06  203.25  205.20       203.312993  \n",
       "2021-07-07  202.50  204.50       205.368037  \n",
       "2021-07-08  203.50  202.35       203.901171  \n",
       "2021-07-09  202.00  202.55       202.427437  \n",
       "2021-07-12  202.00  202.20       202.428397  \n",
       "2021-07-13  202.00  205.15       203.150113  \n",
       "2021-07-14  201.85  208.50       206.005917  \n",
       "2021-07-15  204.40  209.65       208.903602  \n",
       "2021-07-16  207.70  209.50       210.077503  \n",
       "2021-07-19  206.80  209.30       208.969815  \n",
       "2021-07-20  208.20  208.25       208.382770  \n",
       "2021-07-22  207.00  213.60       208.418111  \n",
       "2021-07-23  207.00  215.35       215.656548  \n",
       "2021-07-26  214.00  213.00       213.646287  \n",
       "2021-07-27  212.00    0.00       210.655679  "
      ]
     },
     "execution_count": 32,
     "metadata": {},
     "output_type": "execute_result"
    }
   ],
   "source": [
    "test"
   ]
  },
  {
   "cell_type": "code",
   "execution_count": 40,
   "metadata": {},
   "outputs": [],
   "source": [
    "test.drop(index=test.index[-1], \n",
    "        axis=0, \n",
    "        inplace=True)"
   ]
  },
  {
   "cell_type": "code",
   "execution_count": 42,
   "metadata": {},
   "outputs": [
    {
     "data": {
      "image/png": "[encoded data removed]",
      "text/plain": [
       "<Figure size 1440x720 with 1 Axes>"
      ]
     },
     "metadata": {
      "needs_background": "light"
     },
     "output_type": "display_data"
    }
   ],
   "source": [
    "a=[]\n",
    "i=0\n",
    "t=test.index.values\n",
    "for dt in t:\n",
    "    a.append(dt.strftime(\"%m/%d/%Y\"))\n",
    "fig, ax = plt.subplots(figsize=(20, 10))\n",
    "xd = [datetime.datetime.strptime(d,\"%m/%d/%Y\").date() for d in a]\n",
    "\n",
    "ax.plot(xd, test['ndhigh'],'-o',label = \"Actual next day High\", color = 'red')\n",
    "ax.plot(xd, test['high prediction'],'-o', label = \"predicted high by the model\", color = 'green')\n",
    "\n",
    "\n",
    "ax.grid()\n",
    "plt.legend()\n",
    "plt.show()"
   ]
  },
  {
   "cell_type": "code",
   "execution_count": null,
   "metadata": {},
   "outputs": [],
   "source": []
  }
 ],
 "metadata": {
  "kernelspec": {
   "display_name": "Python 3",
   "language": "python",
   "name": "python3"
  },
  "language_info": {
   "codemirror_mode": {
    "name": "ipython",
    "version": 3
   },
   "file_extension": ".py",
   "mimetype": "text/x-python",
   "name": "python",
   "nbconvert_exporter": "python",
   "pygments_lexer": "ipython3",
   "version": "3.8.3"
  }
 },
 "nbformat": 4,
 "nbformat_minor": 4
}
